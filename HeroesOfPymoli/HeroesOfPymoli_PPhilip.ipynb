{
 "cells": [
  {
   "cell_type": "markdown",
   "metadata": {},
   "source": [
    "### Note\n",
    "* Instructions have been included for each segment. You do not have to follow them exactly, but they are included to help you think through the steps."
   ]
  },
  {
   "cell_type": "code",
   "execution_count": 1,
   "metadata": {},
   "outputs": [],
   "source": [
    "# Dependencies and Setup\n",
    "import pandas as pd\n",
    "\n",
    "# File to Load (Remember to Change These)\n",
    "file_to_load = \"Resources/purchase_data.csv\"\n",
    "\n",
    "# Read Purchasing File and store into Pandas data frame\n",
    "purchase_data = pd.read_csv(file_to_load)"
   ]
  },
  {
   "cell_type": "markdown",
   "metadata": {},
   "source": [
    "## Player Count"
   ]
  },
  {
   "cell_type": "markdown",
   "metadata": {},
   "source": [
    "* Display the total number of players\n"
   ]
  },
  {
   "cell_type": "code",
   "execution_count": 2,
   "metadata": {},
   "outputs": [
    {
     "data": {
      "text/html": [
       "<div>\n",
       "<style scoped>\n",
       "    .dataframe tbody tr th:only-of-type {\n",
       "        vertical-align: middle;\n",
       "    }\n",
       "\n",
       "    .dataframe tbody tr th {\n",
       "        vertical-align: top;\n",
       "    }\n",
       "\n",
       "    .dataframe thead th {\n",
       "        text-align: right;\n",
       "    }\n",
       "</style>\n",
       "<table border=\"1\" class=\"dataframe\">\n",
       "  <thead>\n",
       "    <tr style=\"text-align: right;\">\n",
       "      <th></th>\n",
       "      <th>Total Players</th>\n",
       "    </tr>\n",
       "  </thead>\n",
       "  <tbody>\n",
       "    <tr>\n",
       "      <th>0</th>\n",
       "      <td>576</td>\n",
       "    </tr>\n",
       "  </tbody>\n",
       "</table>\n",
       "</div>"
      ],
      "text/plain": [
       "   Total Players\n",
       "0            576"
      ]
     },
     "execution_count": 2,
     "metadata": {},
     "output_type": "execute_result"
    }
   ],
   "source": [
    "player_count = len(purchase_data['SN'].value_counts())\n",
    "player_data = {'Total Players':[player_count]}\n",
    "player_count_df = pd.DataFrame(player_data)\n",
    "player_count_df"
   ]
  },
  {
   "cell_type": "markdown",
   "metadata": {},
   "source": [
    "## Purchasing Analysis (Total)"
   ]
  },
  {
   "cell_type": "markdown",
   "metadata": {},
   "source": [
    "* Run basic calculations to obtain number of unique items, average price, etc.\n",
    "\n",
    "\n",
    "* Create a summary data frame to hold the results\n",
    "\n",
    "\n",
    "* Optional: give the displayed data cleaner formatting\n",
    "\n",
    "\n",
    "* Display the summary data frame\n"
   ]
  },
  {
   "cell_type": "code",
   "execution_count": 3,
   "metadata": {
    "scrolled": true
   },
   "outputs": [
    {
     "data": {
      "text/html": [
       "<div>\n",
       "<style scoped>\n",
       "    .dataframe tbody tr th:only-of-type {\n",
       "        vertical-align: middle;\n",
       "    }\n",
       "\n",
       "    .dataframe tbody tr th {\n",
       "        vertical-align: top;\n",
       "    }\n",
       "\n",
       "    .dataframe thead th {\n",
       "        text-align: right;\n",
       "    }\n",
       "</style>\n",
       "<table border=\"1\" class=\"dataframe\">\n",
       "  <thead>\n",
       "    <tr style=\"text-align: right;\">\n",
       "      <th></th>\n",
       "      <th>Number of Unique Items</th>\n",
       "      <th>Average Price</th>\n",
       "      <th>Number of Purchases</th>\n",
       "      <th>Total Revenue</th>\n",
       "    </tr>\n",
       "  </thead>\n",
       "  <tbody>\n",
       "    <tr>\n",
       "      <th>0</th>\n",
       "      <td>179</td>\n",
       "      <td>$3.05</td>\n",
       "      <td>780</td>\n",
       "      <td>$2,379.77</td>\n",
       "    </tr>\n",
       "  </tbody>\n",
       "</table>\n",
       "</div>"
      ],
      "text/plain": [
       "   Number of Unique Items Average Price  Number of Purchases Total Revenue\n",
       "0                     179         $3.05                  780     $2,379.77"
      ]
     },
     "execution_count": 3,
     "metadata": {},
     "output_type": "execute_result"
    }
   ],
   "source": [
    "num_uniq_items = len(purchase_data['Item ID'].unique())\n",
    "avg_price = float(purchase_data['Price'].sum()/purchase_data['Price'].count())\n",
    "num_of_purchase = purchase_data['Price'].count()\n",
    "total_rev = purchase_data['Price'].sum()\n",
    "\n",
    "purch_anal = pd.DataFrame({\"Number of Unique Items\":[num_uniq_items],\n",
    "                          'Average Price':[avg_price],'Number of Purchases':[num_of_purchase],\n",
    "                          'Total Revenue':[total_rev]})\n",
    "purch_anal['Average Price'] = purch_anal['Average Price'].map(\"${:,.2f}\".format)\n",
    "purch_anal['Total Revenue'] = purch_anal['Total Revenue'].map(\"${:,.2f}\".format)\n",
    "purch_anal"
   ]
  },
  {
   "cell_type": "markdown",
   "metadata": {},
   "source": [
    "## Gender Demographics"
   ]
  },
  {
   "cell_type": "markdown",
   "metadata": {},
   "source": [
    "* Percentage and Count of Male Players\n",
    "\n",
    "\n",
    "* Percentage and Count of Female Players\n",
    "\n",
    "\n",
    "* Percentage and Count of Other / Non-Disclosed\n",
    "\n",
    "\n"
   ]
  },
  {
   "cell_type": "code",
   "execution_count": 16,
   "metadata": {},
   "outputs": [
    {
     "data": {
      "text/html": [
       "<div>\n",
       "<style scoped>\n",
       "    .dataframe tbody tr th:only-of-type {\n",
       "        vertical-align: middle;\n",
       "    }\n",
       "\n",
       "    .dataframe tbody tr th {\n",
       "        vertical-align: top;\n",
       "    }\n",
       "\n",
       "    .dataframe thead th {\n",
       "        text-align: right;\n",
       "    }\n",
       "</style>\n",
       "<table border=\"1\" class=\"dataframe\">\n",
       "  <thead>\n",
       "    <tr style=\"text-align: right;\">\n",
       "      <th></th>\n",
       "      <th>Total Count</th>\n",
       "      <th>Percentage of Players</th>\n",
       "    </tr>\n",
       "  </thead>\n",
       "  <tbody>\n",
       "    <tr>\n",
       "      <th>Male</th>\n",
       "      <td>484</td>\n",
       "      <td>84.03%</td>\n",
       "    </tr>\n",
       "    <tr>\n",
       "      <th>Female</th>\n",
       "      <td>81</td>\n",
       "      <td>14.06%</td>\n",
       "    </tr>\n",
       "    <tr>\n",
       "      <th>Other / Non-Disclosed</th>\n",
       "      <td>11</td>\n",
       "      <td>1.91%</td>\n",
       "    </tr>\n",
       "  </tbody>\n",
       "</table>\n",
       "</div>"
      ],
      "text/plain": [
       "                       Total Count Percentage of Players\n",
       "Male                           484                84.03%\n",
       "Female                          81                14.06%\n",
       "Other / Non-Disclosed           11                 1.91%"
      ]
     },
     "execution_count": 16,
     "metadata": {},
     "output_type": "execute_result"
    }
   ],
   "source": [
    "gender_df = purchase_data[['SN','Gender']]\n",
    "gender_df_2 = gender_df.drop_duplicates('SN',keep = 'last')\n",
    "\n",
    "num_male = len(gender_df_2.loc[gender_df_2['Gender'] == 'Male'])\n",
    "male_per = (num_male / player_count) * 100\n",
    "\n",
    "num_female = len(gender_df_2.loc[gender_df_2['Gender'] == 'Female'])\n",
    "female_per = (num_female / player_count) * 100\n",
    "\n",
    "num_non = len(gender_df_2.loc[gender_df_2['Gender'] == 'Other / Non-Disclosed'])\n",
    "non_per = (num_non / player_count) * 100\n",
    "\n",
    "gender_dict = {'Total Count':[num_male,num_female,num_non],'Percentage of Players':[male_per,female_per,non_per]}\n",
    "gender_df = pd.DataFrame(gender_dict,index=['Male','Female','Other / Non-Disclosed'])\n",
    "gender_df['Percentage of Players'] = gender_df['Percentage of Players'].map('{:.2f}%'.format)\n",
    "gender_df"
   ]
  },
  {
   "cell_type": "markdown",
   "metadata": {},
   "source": [
    "\n",
    "## Purchasing Analysis (Gender)"
   ]
  },
  {
   "cell_type": "markdown",
   "metadata": {},
   "source": [
    "* Run basic calculations to obtain purchase count, avg. purchase price, avg. purchase total per person etc. by gender \n",
    "\n",
    "\n",
    "* Create a summary data frame to hold the results\n",
    "\n",
    "\n",
    "* Optional: give the displayed data cleaner formatting\n",
    "\n",
    "\n",
    "* Display the summary data frame"
   ]
  },
  {
   "cell_type": "code",
   "execution_count": 29,
   "metadata": {},
   "outputs": [
    {
     "data": {
      "text/html": [
       "<div>\n",
       "<style scoped>\n",
       "    .dataframe tbody tr th:only-of-type {\n",
       "        vertical-align: middle;\n",
       "    }\n",
       "\n",
       "    .dataframe tbody tr th {\n",
       "        vertical-align: top;\n",
       "    }\n",
       "\n",
       "    .dataframe thead th {\n",
       "        text-align: right;\n",
       "    }\n",
       "</style>\n",
       "<table border=\"1\" class=\"dataframe\">\n",
       "  <thead>\n",
       "    <tr style=\"text-align: right;\">\n",
       "      <th></th>\n",
       "      <th>Purchase Count</th>\n",
       "      <th>Average Purchase Price</th>\n",
       "      <th>Total Purchase Value</th>\n",
       "      <th>Avg Total Purchase per Person</th>\n",
       "    </tr>\n",
       "  </thead>\n",
       "  <tbody>\n",
       "    <tr>\n",
       "      <th>Female</th>\n",
       "      <td>113</td>\n",
       "      <td>$3.20</td>\n",
       "      <td>$361.94</td>\n",
       "      <td>$4.47</td>\n",
       "    </tr>\n",
       "    <tr>\n",
       "      <th>Male</th>\n",
       "      <td>652</td>\n",
       "      <td>$3.02</td>\n",
       "      <td>$1,967.64</td>\n",
       "      <td>$4.07</td>\n",
       "    </tr>\n",
       "    <tr>\n",
       "      <th>Other / Non-Disclosed</th>\n",
       "      <td>15</td>\n",
       "      <td>$3.35</td>\n",
       "      <td>$50.19</td>\n",
       "      <td>$4.56</td>\n",
       "    </tr>\n",
       "  </tbody>\n",
       "</table>\n",
       "</div>"
      ],
      "text/plain": [
       "                       Purchase Count Average Purchase Price  \\\n",
       "Female                            113                  $3.20   \n",
       "Male                              652                  $3.02   \n",
       "Other / Non-Disclosed              15                  $3.35   \n",
       "\n",
       "                      Total Purchase Value Avg Total Purchase per Person  \n",
       "Female                             $361.94                         $4.47  \n",
       "Male                             $1,967.64                         $4.07  \n",
       "Other / Non-Disclosed               $50.19                         $4.56  "
      ]
     },
     "execution_count": 29,
     "metadata": {},
     "output_type": "execute_result"
    }
   ],
   "source": [
    "purchase_df = purchase_data[['Gender','Item ID','Price']]\n",
    "purchase_df\n",
    "\n",
    "male_purch = len(purchase_df.loc[purchase_df['Gender'] == 'Male'])\n",
    "female_purch = len(purchase_df.loc[purchase_df['Gender'] == 'Female'])\n",
    "non_purch = len(purchase_df.loc[purchase_df['Gender'] == 'Other / Non-Disclosed'])\n",
    "\n",
    "fem_purchase = purchase_df.loc[purchase_df['Gender'] == 'Female']\n",
    "total_fem_price = fem_purchase['Price'].sum()\n",
    "avg_fem_price = total_fem_price/female_purch\n",
    "avg_total_fem = total_fem_price/num_female\n",
    "\n",
    "male_purchase = purchase_df.loc[purchase_df['Gender'] == 'Male']\n",
    "total_male_price = male_purchase['Price'].sum()\n",
    "avg_male_price = total_male_price/male_purch\n",
    "avg_total_male = total_male_price/num_male\n",
    "\n",
    "non_purchase = purchase_df.loc[purchase_df['Gender'] == 'Other / Non-Disclosed']\n",
    "total_non_price = non_purchase['Price'].sum()\n",
    "avg_non_price = total_non_price/non_purch\n",
    "avg_total_non = total_non_price/num_non\n",
    "\n",
    "purchase_dict = {'Purchase Count':[female_purch,male_purch,non_purch],\n",
    "                'Average Purchase Price':[avg_fem_price,avg_male_price,avg_non_price],\n",
    "                 'Total Purchase Value':[total_fem_price,total_male_price,total_non_price],\n",
    "                'Avg Total Purchase per Person':[avg_total_fem,avg_total_male,avg_total_non],\n",
    "                }\n",
    "new_purchase_df = pd.DataFrame(purchase_dict, index = ['Female','Male','Other / Non-Disclosed'])\n",
    "new_purchase_df['Average Purchase Price'] = new_purchase_df['Average Purchase Price'].map('${:.2f}'.format)\n",
    "new_purchase_df['Total Purchase Value'] = new_purchase_df['Total Purchase Value'].map('${:,.2f}'.format)\n",
    "new_purchase_df['Avg Total Purchase per Person'] = new_purchase_df['Avg Total Purchase per Person'].map('${:.2f}'.format)\n",
    "new_purchase_df\n"
   ]
  },
  {
   "cell_type": "markdown",
   "metadata": {},
   "source": [
    "## Age Demographics"
   ]
  },
  {
   "cell_type": "markdown",
   "metadata": {},
   "source": [
    "* Establish bins for ages\n",
    "\n",
    "\n",
    "* Categorize the existing players using the age bins. Hint: use pd.cut()\n",
    "\n",
    "\n",
    "* Calculate the numbers and percentages by age group\n",
    "\n",
    "\n",
    "* Create a summary data frame to hold the results\n",
    "\n",
    "\n",
    "* Optional: round the percentage column to two decimal points\n",
    "\n",
    "\n",
    "* Display Age Demographics Table\n"
   ]
  },
  {
   "cell_type": "code",
   "execution_count": 61,
   "metadata": {},
   "outputs": [
    {
     "data": {
      "text/html": [
       "<div>\n",
       "<style scoped>\n",
       "    .dataframe tbody tr th:only-of-type {\n",
       "        vertical-align: middle;\n",
       "    }\n",
       "\n",
       "    .dataframe tbody tr th {\n",
       "        vertical-align: top;\n",
       "    }\n",
       "\n",
       "    .dataframe thead th {\n",
       "        text-align: right;\n",
       "    }\n",
       "</style>\n",
       "<table border=\"1\" class=\"dataframe\">\n",
       "  <thead>\n",
       "    <tr style=\"text-align: right;\">\n",
       "      <th></th>\n",
       "      <th>Total Count</th>\n",
       "      <th>Percentage of Players</th>\n",
       "    </tr>\n",
       "  </thead>\n",
       "  <tbody>\n",
       "    <tr>\n",
       "      <th>&lt;10</th>\n",
       "      <td>17</td>\n",
       "      <td>2.95%</td>\n",
       "    </tr>\n",
       "    <tr>\n",
       "      <th>10-14</th>\n",
       "      <td>22</td>\n",
       "      <td>3.82%</td>\n",
       "    </tr>\n",
       "    <tr>\n",
       "      <th>15-19</th>\n",
       "      <td>107</td>\n",
       "      <td>18.58%</td>\n",
       "    </tr>\n",
       "    <tr>\n",
       "      <th>20-24</th>\n",
       "      <td>258</td>\n",
       "      <td>44.79%</td>\n",
       "    </tr>\n",
       "    <tr>\n",
       "      <th>25-29</th>\n",
       "      <td>77</td>\n",
       "      <td>13.37%</td>\n",
       "    </tr>\n",
       "    <tr>\n",
       "      <th>30-34</th>\n",
       "      <td>52</td>\n",
       "      <td>9.03%</td>\n",
       "    </tr>\n",
       "    <tr>\n",
       "      <th>35-39</th>\n",
       "      <td>31</td>\n",
       "      <td>5.38%</td>\n",
       "    </tr>\n",
       "    <tr>\n",
       "      <th>40+</th>\n",
       "      <td>12</td>\n",
       "      <td>2.08%</td>\n",
       "    </tr>\n",
       "  </tbody>\n",
       "</table>\n",
       "</div>"
      ],
      "text/plain": [
       "       Total Count Percentage of Players\n",
       "<10             17                 2.95%\n",
       "10-14           22                 3.82%\n",
       "15-19          107                18.58%\n",
       "20-24          258                44.79%\n",
       "25-29           77                13.37%\n",
       "30-34           52                 9.03%\n",
       "35-39           31                 5.38%\n",
       "40+             12                 2.08%"
      ]
     },
     "execution_count": 61,
     "metadata": {},
     "output_type": "execute_result"
    }
   ],
   "source": [
    "age_df = purchase_data[['SN','Age']]\n",
    "age_df = age_df.drop_duplicates('SN',keep = 'last')\n",
    "\n",
    "#max_age = 45\n",
    "max_age = round(age_df['Age'].max())\n",
    "#min_age = 7\n",
    "min_age = round(age_df['Age'].min())\n",
    "#med_age = 22\n",
    "med_age = round(age_df['Age'].median())\n",
    "#first_quart_age = 20\n",
    "first_quart_age = round(age_df['Age'].quantile(0.25))\n",
    "#third_quart_age = 25\n",
    "third_quart_age = round(age_df['Age'].quantile(0.75))\n",
    "\n",
    "bins = [0,9,14,19,24,29,34,39,46]\n",
    "bin_labels = ['<10','10-14','15-19','20-24','25-29','30-34','35-39','40+']\n",
    "\n",
    "age_df = age_df.copy()\n",
    "age_df['New Age'] = pd.cut(age_df['Age'],bins,labels=bin_labels)\n",
    "\n",
    "num_0_10 = len(age_df.loc[age_df['New Age'] == '<10'])\n",
    "per_0_10 = (num_0_10/player_count) * 100\n",
    "\n",
    "num_10_14 = len(age_df.loc[age_df['New Age'] == '10-14'])\n",
    "per_10_14 = (num_10_14/player_count) * 100\n",
    "\n",
    "num_15_19 = len(age_df.loc[age_df['New Age'] == '15-19'])\n",
    "per_15_19 = (num_15_19/player_count) * 100\n",
    "\n",
    "num_20_24 = len(age_df.loc[age_df['New Age'] == '20-24'])\n",
    "per_20_24 = (num_20_24/player_count) * 100\n",
    "\n",
    "num_25_29 = len(age_df.loc[age_df['New Age'] == '25-29'])\n",
    "per_25_29 = (num_25_29/player_count) * 100\n",
    "\n",
    "num_30_34 = len(age_df.loc[age_df['New Age'] == '30-34'])\n",
    "per_30_34 = (num_30_34/player_count) * 100\n",
    "\n",
    "num_35_39 = len(age_df.loc[age_df['New Age'] == '35-39'])\n",
    "per_35_39 = (num_35_39/player_count) * 100\n",
    "\n",
    "num_40_up = len(age_df.loc[age_df['New Age'] == '40+'])\n",
    "per_40_up = (num_40_up/player_count) * 100\n",
    "\n",
    "age_dict = {'Total Count':[num_0_10,num_10_14,num_15_19,num_20_24,num_25_29,num_30_34,\n",
    "                           num_35_39,num_40_up],\n",
    "           'Percentage of Players':[per_0_10,per_10_14,per_15_19,per_20_24,\n",
    "                                   per_25_29,per_30_34,per_35_39,per_40_up]}\n",
    "new_age = pd.DataFrame(age_dict, index = ['<10','10-14','15-19','20-24','25-29',\n",
    "                                          '30-34','35-39','40+'])\n",
    "new_age['Percentage of Players'] = new_age['Percentage of Players'].map('{:.2f}%'.format)\n",
    "new_age"
   ]
  },
  {
   "cell_type": "markdown",
   "metadata": {},
   "source": [
    "## Purchasing Analysis (Age)"
   ]
  },
  {
   "cell_type": "markdown",
   "metadata": {},
   "source": [
    "* Bin the purchase_data data frame by age\n",
    "\n",
    "\n",
    "* Run basic calculations to obtain purchase count, avg. purchase price, avg. purchase total per person etc. in the table below\n",
    "\n",
    "\n",
    "* Create a summary data frame to hold the results\n",
    "\n",
    "\n",
    "* Optional: give the displayed data cleaner formatting\n",
    "\n",
    "\n",
    "* Display the summary data frame"
   ]
  },
  {
   "cell_type": "code",
   "execution_count": 72,
   "metadata": {},
   "outputs": [
    {
     "name": "stderr",
     "output_type": "stream",
     "text": [
      "<ipython-input-72-60f0b5bd8d73>:49: RuntimeWarning: invalid value encountered in double_scalars\n",
      "  avg_35_39_price = total_35_39_price/purch_35_39\n"
     ]
    },
    {
     "data": {
      "text/html": [
       "<div>\n",
       "<style scoped>\n",
       "    .dataframe tbody tr th:only-of-type {\n",
       "        vertical-align: middle;\n",
       "    }\n",
       "\n",
       "    .dataframe tbody tr th {\n",
       "        vertical-align: top;\n",
       "    }\n",
       "\n",
       "    .dataframe thead th {\n",
       "        text-align: right;\n",
       "    }\n",
       "</style>\n",
       "<table border=\"1\" class=\"dataframe\">\n",
       "  <thead>\n",
       "    <tr style=\"text-align: right;\">\n",
       "      <th></th>\n",
       "      <th>Purchase Count</th>\n",
       "      <th>Average Purchase Price</th>\n",
       "      <th>Total Purchase Value</th>\n",
       "      <th>Avg Total Purchase per Person</th>\n",
       "    </tr>\n",
       "  </thead>\n",
       "  <tbody>\n",
       "    <tr>\n",
       "      <th>&lt;10</th>\n",
       "      <td>23</td>\n",
       "      <td>$3.35</td>\n",
       "      <td>$77.13</td>\n",
       "      <td>$4.54</td>\n",
       "    </tr>\n",
       "    <tr>\n",
       "      <th>10-14</th>\n",
       "      <td>28</td>\n",
       "      <td>$2.96</td>\n",
       "      <td>$82.78</td>\n",
       "      <td>$3.76</td>\n",
       "    </tr>\n",
       "    <tr>\n",
       "      <th>15-19</th>\n",
       "      <td>136</td>\n",
       "      <td>$3.04</td>\n",
       "      <td>$412.89</td>\n",
       "      <td>$3.86</td>\n",
       "    </tr>\n",
       "    <tr>\n",
       "      <th>20-24</th>\n",
       "      <td>365</td>\n",
       "      <td>$3.05</td>\n",
       "      <td>$1,114.06</td>\n",
       "      <td>$4.32</td>\n",
       "    </tr>\n",
       "    <tr>\n",
       "      <th>25-29</th>\n",
       "      <td>101</td>\n",
       "      <td>$2.90</td>\n",
       "      <td>$293.00</td>\n",
       "      <td>$3.81</td>\n",
       "    </tr>\n",
       "    <tr>\n",
       "      <th>30-34</th>\n",
       "      <td>73</td>\n",
       "      <td>$2.93</td>\n",
       "      <td>$214.00</td>\n",
       "      <td>$4.12</td>\n",
       "    </tr>\n",
       "    <tr>\n",
       "      <th>35-39</th>\n",
       "      <td>0</td>\n",
       "      <td>$nan</td>\n",
       "      <td>$0.00</td>\n",
       "      <td>$0.00</td>\n",
       "    </tr>\n",
       "    <tr>\n",
       "      <th>40+</th>\n",
       "      <td>13</td>\n",
       "      <td>$2.94</td>\n",
       "      <td>$38.24</td>\n",
       "      <td>$3.19</td>\n",
       "    </tr>\n",
       "  </tbody>\n",
       "</table>\n",
       "</div>"
      ],
      "text/plain": [
       "       Purchase Count Average Purchase Price Total Purchase Value  \\\n",
       "<10                23                  $3.35               $77.13   \n",
       "10-14              28                  $2.96               $82.78   \n",
       "15-19             136                  $3.04              $412.89   \n",
       "20-24             365                  $3.05            $1,114.06   \n",
       "25-29             101                  $2.90              $293.00   \n",
       "30-34              73                  $2.93              $214.00   \n",
       "35-39               0                   $nan                $0.00   \n",
       "40+                13                  $2.94               $38.24   \n",
       "\n",
       "      Avg Total Purchase per Person  \n",
       "<10                           $4.54  \n",
       "10-14                         $3.76  \n",
       "15-19                         $3.86  \n",
       "20-24                         $4.32  \n",
       "25-29                         $3.81  \n",
       "30-34                         $4.12  \n",
       "35-39                         $0.00  \n",
       "40+                           $3.19  "
      ]
     },
     "execution_count": 72,
     "metadata": {},
     "output_type": "execute_result"
    }
   ],
   "source": [
    "pur_age_df = purchase_data[['Age','Item ID','Price']]\n",
    "pur_age_df\n",
    "\n",
    "bins = [0,9,14,19,24,29,34,39,46]\n",
    "bin_labels = ['<10','10-14','15-19','20-24','25-29','30-34','35-39','40+']\n",
    "\n",
    "pur_age_df = pur_age_df.copy()\n",
    "pur_age_df['New Age'] = pd.cut(pur_age_df['Age'],bins,labels=bin_labels)\n",
    "\n",
    "purch_0_10 = len(pur_age_df.loc[pur_age_df['New Age'] == '<10'])\n",
    "total_0_10 = pur_age_df.loc[pur_age_df['New Age'] == '<10']\n",
    "total_0_10_price = total_0_10['Price'].sum()\n",
    "avg_0_10_price = total_0_10_price/purch_0_10\n",
    "total_avg_0_10 = total_0_10_price/num_0_10\n",
    "\n",
    "purch_10_14 = len(pur_age_df.loc[pur_age_df['New Age'] == '10-14'])\n",
    "total_10_14 = pur_age_df.loc[pur_age_df['New Age'] == '10-14']\n",
    "total_10_14_price = total_10_14['Price'].sum()\n",
    "avg_10_14_price = total_10_14_price/purch_10_14\n",
    "total_avg_10_14 = total_10_14_price/num_10_14\n",
    "\n",
    "purch_15_19 = len(pur_age_df.loc[pur_age_df['New Age'] == '15-19'])\n",
    "total_15_19 = pur_age_df.loc[pur_age_df['New Age'] == '15-19']\n",
    "total_15_19_price = total_15_19['Price'].sum()\n",
    "avg_15_19_price = total_15_19_price/purch_15_19\n",
    "total_avg_15_19 = total_15_19_price/num_15_19\n",
    "\n",
    "purch_20_24 = len(pur_age_df.loc[pur_age_df['New Age'] == '20-24'])\n",
    "total_20_24 = pur_age_df.loc[pur_age_df['New Age'] == '20-24']\n",
    "total_20_24_price = total_20_24['Price'].sum()\n",
    "avg_20_24_price = total_20_24_price/purch_20_24\n",
    "total_avg_20_24 = total_20_24_price/num_20_24\n",
    "\n",
    "purch_25_29 = len(pur_age_df.loc[pur_age_df['New Age'] == '25-29'])\n",
    "total_25_29 = pur_age_df.loc[pur_age_df['New Age'] == '25-29']\n",
    "total_25_29_price = total_25_29['Price'].sum()\n",
    "avg_25_29_price = total_25_29_price/purch_25_29\n",
    "total_avg_25_29 = total_25_29_price/num_25_29\n",
    "\n",
    "purch_30_34 = len(pur_age_df.loc[pur_age_df['New Age'] == '30-34'])\n",
    "total_30_34 = pur_age_df.loc[pur_age_df['New Age'] == '30-34']\n",
    "total_30_34_price = total_30_34['Price'].sum()\n",
    "avg_30_34_price = total_30_34_price/purch_30_34\n",
    "total_avg_30_34 = total_30_34_price/num_30_34\n",
    "\n",
    "purch_35_39 = len(pur_age_df.loc[pur_age_df['New Age'] == '35-19'])\n",
    "total_35_39 = pur_age_df.loc[pur_age_df['New Age'] == '35-19']\n",
    "total_35_39_price = total_35_39['Price'].sum()\n",
    "avg_35_39_price = total_35_39_price/purch_35_39\n",
    "total_avg_35_39 = total_35_39_price/num_35_39\n",
    "\n",
    "purch_40_up = len(pur_age_df.loc[pur_age_df['New Age'] == '40+'])\n",
    "total_40_up = pur_age_df.loc[pur_age_df['New Age'] == '40+']\n",
    "total_40_up_price = total_40_up['Price'].sum()\n",
    "avg_40_up_price = total_40_up_price/purch_40_up\n",
    "total_avg_40_up = total_40_up_price/num_40_up\n",
    "\n",
    "purch_age_dict = {'Purchase Count':[purch_0_10,purch_10_14,purch_15_19,\n",
    "                                   purch_20_24,purch_25_29,purch_30_34,\n",
    "                                   purch_35_39,purch_40_up], \n",
    "                  'Average Purchase Price':[avg_0_10_price,avg_10_14_price,\n",
    "                                            avg_15_19_price,avg_20_24_price,\n",
    "                                            avg_25_29_price,avg_30_34_price,\n",
    "                                            avg_35_39_price,avg_40_up_price],\n",
    "                 'Total Purchase Value':[total_0_10_price,total_10_14_price,\n",
    "                                        total_15_19_price,total_20_24_price,\n",
    "                                        total_25_29_price,total_30_34_price,\n",
    "                                        total_35_39_price,total_40_up_price],\n",
    "                 'Avg Total Purchase per Person':[total_avg_0_10,total_avg_10_14,\n",
    "                                                 total_avg_15_19,total_avg_20_24,\n",
    "                                                 total_avg_25_29,total_avg_30_34,\n",
    "                                                 total_avg_35_39,total_avg_40_up]}\n",
    "new_age_purch = pd.DataFrame(purch_age_dict, index=['<10','10-14','15-19','20-24','25-29','30-34','35-39','40+'])\n",
    "new_age_purch['Average Purchase Price'] = new_age_purch['Average Purchase Price'].map('${:.2f}'.format)\n",
    "new_age_purch['Total Purchase Value'] = new_age_purch['Total Purchase Value'].map('${:,.2f}'.format)\n",
    "new_age_purch['Avg Total Purchase per Person'] = new_age_purch['Avg Total Purchase per Person'].map('${:.2f}'.format)\n",
    "new_age_purch"
   ]
  },
  {
   "cell_type": "markdown",
   "metadata": {},
   "source": [
    "## Top Spenders"
   ]
  },
  {
   "cell_type": "markdown",
   "metadata": {},
   "source": [
    "* Run basic calculations to obtain the results in the table below\n",
    "\n",
    "\n",
    "* Create a summary data frame to hold the results\n",
    "\n",
    "\n",
    "* Sort the total purchase value column in descending order\n",
    "\n",
    "\n",
    "* Optional: give the displayed data cleaner formatting\n",
    "\n",
    "\n",
    "* Display a preview of the summary data frame\n",
    "\n"
   ]
  },
  {
   "cell_type": "code",
   "execution_count": null,
   "metadata": {},
   "outputs": [],
   "source": []
  },
  {
   "cell_type": "markdown",
   "metadata": {},
   "source": [
    "## Most Popular Items"
   ]
  },
  {
   "cell_type": "markdown",
   "metadata": {},
   "source": [
    "* Retrieve the Item ID, Item Name, and Item Price columns\n",
    "\n",
    "\n",
    "* Group by Item ID and Item Name. Perform calculations to obtain purchase count, average item price, and total purchase value\n",
    "\n",
    "\n",
    "* Create a summary data frame to hold the results\n",
    "\n",
    "\n",
    "* Sort the purchase count column in descending order\n",
    "\n",
    "\n",
    "* Optional: give the displayed data cleaner formatting\n",
    "\n",
    "\n",
    "* Display a preview of the summary data frame\n",
    "\n"
   ]
  },
  {
   "cell_type": "code",
   "execution_count": null,
   "metadata": {},
   "outputs": [],
   "source": []
  },
  {
   "cell_type": "markdown",
   "metadata": {},
   "source": [
    "## Most Profitable Items"
   ]
  },
  {
   "cell_type": "markdown",
   "metadata": {},
   "source": [
    "* Sort the above table by total purchase value in descending order\n",
    "\n",
    "\n",
    "* Optional: give the displayed data cleaner formatting\n",
    "\n",
    "\n",
    "* Display a preview of the data frame\n",
    "\n"
   ]
  },
  {
   "cell_type": "code",
   "execution_count": null,
   "metadata": {
    "scrolled": true
   },
   "outputs": [],
   "source": []
  }
 ],
 "metadata": {
  "anaconda-cloud": {},
  "kernel_info": {
   "name": "python3"
  },
  "kernelspec": {
   "display_name": "Python 3",
   "language": "python",
   "name": "python3"
  },
  "language_info": {
   "codemirror_mode": {
    "name": "ipython",
    "version": 3
   },
   "file_extension": ".py",
   "mimetype": "text/x-python",
   "name": "python",
   "nbconvert_exporter": "python",
   "pygments_lexer": "ipython3",
   "version": "3.8.5"
  },
  "latex_envs": {
   "LaTeX_envs_menu_present": true,
   "autoclose": false,
   "autocomplete": true,
   "bibliofile": "biblio.bib",
   "cite_by": "apalike",
   "current_citInitial": 1,
   "eqLabelWithNumbers": true,
   "eqNumInitial": 1,
   "hotkeys": {
    "equation": "Ctrl-E",
    "itemize": "Ctrl-I"
   },
   "labels_anchors": false,
   "latex_user_defs": false,
   "report_style_numbering": false,
   "user_envs_cfg": false
  },
  "nteract": {
   "version": "0.2.0"
  }
 },
 "nbformat": 4,
 "nbformat_minor": 4
}
